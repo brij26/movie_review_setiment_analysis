{
 "cells": [
  {
   "cell_type": "code",
   "execution_count": 1,
   "metadata": {},
   "outputs": [],
   "source": [
    "import numpy as np\n",
    "import pandas as pd\n",
    "from tensorflow.keras.preprocessing import sequence\n",
    "from tensorflow.keras.datasets import imdb\n",
    "from tensorflow.keras.models import load_model"
   ]
  },
  {
   "cell_type": "code",
   "execution_count": 2,
   "metadata": {},
   "outputs": [],
   "source": [
    "# load the imdb dataset word index\n",
    "word_index = imdb.get_word_index()\n",
    "reverse_word_index = {value:key for key,value in word_index.items()}"
   ]
  },
  {
   "cell_type": "code",
   "execution_count": 3,
   "metadata": {},
   "outputs": [
    {
     "name": "stderr",
     "output_type": "stream",
     "text": [
      "WARNING:absl:Compiled the loaded model, but the compiled metrics have yet to be built. `model.compile_metrics` will be empty until you train or evaluate the model.\n"
     ]
    },
    {
     "data": {
      "text/html": [
       "<pre style=\"white-space:pre;overflow-x:auto;line-height:normal;font-family:Menlo,'DejaVu Sans Mono',consolas,'Courier New',monospace\"><span style=\"font-weight: bold\">Model: \"sequential\"</span>\n",
       "</pre>\n"
      ],
      "text/plain": [
       "\u001b[1mModel: \"sequential\"\u001b[0m\n"
      ]
     },
     "metadata": {},
     "output_type": "display_data"
    },
    {
     "data": {
      "text/html": [
       "<pre style=\"white-space:pre;overflow-x:auto;line-height:normal;font-family:Menlo,'DejaVu Sans Mono',consolas,'Courier New',monospace\">┏━━━━━━━━━━━━━━━━━━━━━━━━━━━━━━━━━┳━━━━━━━━━━━━━━━━━━━━━━━━┳━━━━━━━━━━━━━━━┓\n",
       "┃<span style=\"font-weight: bold\"> Layer (type)                    </span>┃<span style=\"font-weight: bold\"> Output Shape           </span>┃<span style=\"font-weight: bold\">       Param # </span>┃\n",
       "┡━━━━━━━━━━━━━━━━━━━━━━━━━━━━━━━━━╇━━━━━━━━━━━━━━━━━━━━━━━━╇━━━━━━━━━━━━━━━┩\n",
       "│ embedding (<span style=\"color: #0087ff; text-decoration-color: #0087ff\">Embedding</span>)           │ (<span style=\"color: #00d7ff; text-decoration-color: #00d7ff\">None</span>, <span style=\"color: #00af00; text-decoration-color: #00af00\">500</span>, <span style=\"color: #00af00; text-decoration-color: #00af00\">128</span>)       │     <span style=\"color: #00af00; text-decoration-color: #00af00\">1,280,000</span> │\n",
       "├─────────────────────────────────┼────────────────────────┼───────────────┤\n",
       "│ simple_rnn (<span style=\"color: #0087ff; text-decoration-color: #0087ff\">SimpleRNN</span>)          │ (<span style=\"color: #00d7ff; text-decoration-color: #00d7ff\">None</span>, <span style=\"color: #00af00; text-decoration-color: #00af00\">128</span>)            │        <span style=\"color: #00af00; text-decoration-color: #00af00\">32,896</span> │\n",
       "├─────────────────────────────────┼────────────────────────┼───────────────┤\n",
       "│ dense (<span style=\"color: #0087ff; text-decoration-color: #0087ff\">Dense</span>)                   │ (<span style=\"color: #00d7ff; text-decoration-color: #00d7ff\">None</span>, <span style=\"color: #00af00; text-decoration-color: #00af00\">1</span>)              │           <span style=\"color: #00af00; text-decoration-color: #00af00\">129</span> │\n",
       "└─────────────────────────────────┴────────────────────────┴───────────────┘\n",
       "</pre>\n"
      ],
      "text/plain": [
       "┏━━━━━━━━━━━━━━━━━━━━━━━━━━━━━━━━━┳━━━━━━━━━━━━━━━━━━━━━━━━┳━━━━━━━━━━━━━━━┓\n",
       "┃\u001b[1m \u001b[0m\u001b[1mLayer (type)                   \u001b[0m\u001b[1m \u001b[0m┃\u001b[1m \u001b[0m\u001b[1mOutput Shape          \u001b[0m\u001b[1m \u001b[0m┃\u001b[1m \u001b[0m\u001b[1m      Param #\u001b[0m\u001b[1m \u001b[0m┃\n",
       "┡━━━━━━━━━━━━━━━━━━━━━━━━━━━━━━━━━╇━━━━━━━━━━━━━━━━━━━━━━━━╇━━━━━━━━━━━━━━━┩\n",
       "│ embedding (\u001b[38;5;33mEmbedding\u001b[0m)           │ (\u001b[38;5;45mNone\u001b[0m, \u001b[38;5;34m500\u001b[0m, \u001b[38;5;34m128\u001b[0m)       │     \u001b[38;5;34m1,280,000\u001b[0m │\n",
       "├─────────────────────────────────┼────────────────────────┼───────────────┤\n",
       "│ simple_rnn (\u001b[38;5;33mSimpleRNN\u001b[0m)          │ (\u001b[38;5;45mNone\u001b[0m, \u001b[38;5;34m128\u001b[0m)            │        \u001b[38;5;34m32,896\u001b[0m │\n",
       "├─────────────────────────────────┼────────────────────────┼───────────────┤\n",
       "│ dense (\u001b[38;5;33mDense\u001b[0m)                   │ (\u001b[38;5;45mNone\u001b[0m, \u001b[38;5;34m1\u001b[0m)              │           \u001b[38;5;34m129\u001b[0m │\n",
       "└─────────────────────────────────┴────────────────────────┴───────────────┘\n"
      ]
     },
     "metadata": {},
     "output_type": "display_data"
    },
    {
     "data": {
      "text/html": [
       "<pre style=\"white-space:pre;overflow-x:auto;line-height:normal;font-family:Menlo,'DejaVu Sans Mono',consolas,'Courier New',monospace\"><span style=\"font-weight: bold\"> Total params: </span><span style=\"color: #00af00; text-decoration-color: #00af00\">1,313,027</span> (5.01 MB)\n",
       "</pre>\n"
      ],
      "text/plain": [
       "\u001b[1m Total params: \u001b[0m\u001b[38;5;34m1,313,027\u001b[0m (5.01 MB)\n"
      ]
     },
     "metadata": {},
     "output_type": "display_data"
    },
    {
     "data": {
      "text/html": [
       "<pre style=\"white-space:pre;overflow-x:auto;line-height:normal;font-family:Menlo,'DejaVu Sans Mono',consolas,'Courier New',monospace\"><span style=\"font-weight: bold\"> Trainable params: </span><span style=\"color: #00af00; text-decoration-color: #00af00\">1,313,025</span> (5.01 MB)\n",
       "</pre>\n"
      ],
      "text/plain": [
       "\u001b[1m Trainable params: \u001b[0m\u001b[38;5;34m1,313,025\u001b[0m (5.01 MB)\n"
      ]
     },
     "metadata": {},
     "output_type": "display_data"
    },
    {
     "data": {
      "text/html": [
       "<pre style=\"white-space:pre;overflow-x:auto;line-height:normal;font-family:Menlo,'DejaVu Sans Mono',consolas,'Courier New',monospace\"><span style=\"font-weight: bold\"> Non-trainable params: </span><span style=\"color: #00af00; text-decoration-color: #00af00\">0</span> (0.00 B)\n",
       "</pre>\n"
      ],
      "text/plain": [
       "\u001b[1m Non-trainable params: \u001b[0m\u001b[38;5;34m0\u001b[0m (0.00 B)\n"
      ]
     },
     "metadata": {},
     "output_type": "display_data"
    },
    {
     "data": {
      "text/html": [
       "<pre style=\"white-space:pre;overflow-x:auto;line-height:normal;font-family:Menlo,'DejaVu Sans Mono',consolas,'Courier New',monospace\"><span style=\"font-weight: bold\"> Optimizer params: </span><span style=\"color: #00af00; text-decoration-color: #00af00\">2</span> (12.00 B)\n",
       "</pre>\n"
      ],
      "text/plain": [
       "\u001b[1m Optimizer params: \u001b[0m\u001b[38;5;34m2\u001b[0m (12.00 B)\n"
      ]
     },
     "metadata": {},
     "output_type": "display_data"
    }
   ],
   "source": [
    "# load the pre-trained model with relu activation\n",
    "model = load_model('simple_Rnn_imdb.h5')\n",
    "model.summary()"
   ]
  },
  {
   "cell_type": "code",
   "execution_count": 4,
   "metadata": {},
   "outputs": [
    {
     "data": {
      "text/plain": [
       "[array([[-0.14369169,  0.7014742 , -0.17081223, ..., -0.15548216,\n",
       "          0.8458784 ,  0.14939457],\n",
       "        [-0.02054065,  0.05927235, -0.04099   , ...,  0.01133004,\n",
       "          0.07629949, -0.00312059],\n",
       "        [-0.10124043,  0.09350748, -0.0999553 , ..., -0.03273036,\n",
       "          0.15486132,  0.06140849],\n",
       "        ...,\n",
       "        [ 0.03148155, -0.01430177,  0.05325449, ...,  0.03895917,\n",
       "         -0.00397125, -0.01035827],\n",
       "        [ 0.01494954, -0.01292661,  0.01157117, ...,  0.04447891,\n",
       "         -0.00625344, -0.02075413],\n",
       "        [-0.05995568, -0.04077857,  0.01560507, ...,  0.00900435,\n",
       "         -0.05996247,  0.02607042]], dtype=float32),\n",
       " array([[-0.05556582, -0.11444408, -0.09394602, ..., -0.04543278,\n",
       "          0.07554068, -0.07635035],\n",
       "        [ 0.06640946,  0.02679794,  0.0613796 , ..., -0.07832894,\n",
       "          0.03838154, -0.04651582],\n",
       "        [-0.11745662,  0.08162727, -0.11845082, ...,  0.0787339 ,\n",
       "          0.07057009,  0.15083556],\n",
       "        ...,\n",
       "        [-0.03667118,  0.10311211, -0.0924237 , ...,  0.197356  ,\n",
       "         -0.05494662, -0.02756102],\n",
       "        [ 0.07773513, -0.0666747 , -0.06831545, ...,  0.11599527,\n",
       "         -0.05257278,  0.15032558],\n",
       "        [ 0.17900798, -0.06427009,  0.12540509, ..., -0.127659  ,\n",
       "          0.00698107, -0.19413963]], dtype=float32),\n",
       " array([[-0.12797235, -0.0941289 ,  0.13305126, ..., -0.01971724,\n",
       "          0.05169638,  0.10013454],\n",
       "        [ 0.0113028 ,  0.03911515, -0.06108424, ...,  0.04176934,\n",
       "          0.04988503, -0.00622552],\n",
       "        [ 0.12925345,  0.03667946, -0.03932416, ..., -0.05539903,\n",
       "         -0.08584055,  0.05708389],\n",
       "        ...,\n",
       "        [-0.09208728, -0.04949077,  0.0253599 , ...,  0.03828301,\n",
       "         -0.14379038, -0.09976485],\n",
       "        [-0.07568474,  0.03639812, -0.02335467, ..., -0.06141672,\n",
       "          0.03107898, -0.05391214],\n",
       "        [-0.00882837,  0.09942579,  0.08281053, ..., -0.02661208,\n",
       "          0.02295117,  0.01997382]], dtype=float32),\n",
       " array([-0.01208956,  0.00110421, -0.00874243, -0.00514594, -0.02078225,\n",
       "         0.01761028,  0.02767621, -0.02353022, -0.01583889, -0.00703574,\n",
       "        -0.03396513, -0.03301408,  0.00155879,  0.00230688, -0.00414244,\n",
       "        -0.03273796, -0.00822894, -0.01494481,  0.00056655,  0.00182013,\n",
       "         0.00334947,  0.01387398, -0.02350702, -0.02578817, -0.01180975,\n",
       "         0.02450471, -0.03807792, -0.02907657, -0.00321334, -0.0336861 ,\n",
       "        -0.03568522, -0.00063575, -0.02159115, -0.02692928, -0.03185846,\n",
       "        -0.01588919, -0.01902868, -0.00501385, -0.0151967 , -0.02426269,\n",
       "         0.00614584,  0.02020093, -0.03293528, -0.00302182, -0.02217184,\n",
       "         0.000824  , -0.01701869, -0.02598641, -0.02474046, -0.00924141,\n",
       "        -0.00878241,  0.01386804, -0.00835692, -0.01400071, -0.01921108,\n",
       "         0.00134954, -0.0563705 ,  0.00212142, -0.03388744,  0.00664789,\n",
       "        -0.02401243, -0.01551621, -0.02593312, -0.02960993, -0.0115428 ,\n",
       "        -0.01429364,  0.00940417, -0.02285134, -0.00804416,  0.01699471,\n",
       "         0.00236756, -0.00230221, -0.02707525, -0.02058616, -0.04172914,\n",
       "         0.01986507, -0.02460064,  0.00210032,  0.01395353, -0.01272662,\n",
       "        -0.02813764,  0.01578798, -0.01328775, -0.0414829 , -0.02201087,\n",
       "        -0.05084046, -0.01349172, -0.03281543, -0.03493646, -0.04580351,\n",
       "        -0.02405536,  0.00662452, -0.02833205,  0.0199334 ,  0.00813458,\n",
       "         0.01001709, -0.03306388,  0.00027435, -0.01840307, -0.00917378,\n",
       "        -0.00275259, -0.01809339,  0.02683031, -0.01525319, -0.00365121,\n",
       "        -0.01231269, -0.00474918, -0.01973979, -0.00258088, -0.03635044,\n",
       "        -0.03317073, -0.03250774, -0.03849294,  0.00668069, -0.0094356 ,\n",
       "        -0.00119132, -0.01056109, -0.0206403 ,  0.00099043, -0.0220598 ,\n",
       "        -0.01233904, -0.03838733, -0.02019355, -0.02734284, -0.03159761,\n",
       "         0.00618314,  0.01163627, -0.01977308], dtype=float32),\n",
       " array([[ 0.03717177],\n",
       "        [ 0.03018344],\n",
       "        [-0.10869743],\n",
       "        [ 0.0993196 ],\n",
       "        [-0.15452862],\n",
       "        [ 0.16114885],\n",
       "        [-0.19901553],\n",
       "        [-0.09183028],\n",
       "        [-0.1067799 ],\n",
       "        [-0.03511871],\n",
       "        [ 0.01423845],\n",
       "        [-0.10271126],\n",
       "        [ 0.11966699],\n",
       "        [-0.19033894],\n",
       "        [ 0.17340355],\n",
       "        [-0.15585905],\n",
       "        [ 0.21438438],\n",
       "        [-0.02521822],\n",
       "        [ 0.20872708],\n",
       "        [-0.28770682],\n",
       "        [ 0.14158715],\n",
       "        [-0.01491232],\n",
       "        [ 0.2170902 ],\n",
       "        [-0.07910109],\n",
       "        [ 0.1433784 ],\n",
       "        [-0.20795085],\n",
       "        [ 0.18009949],\n",
       "        [ 0.03941705],\n",
       "        [ 0.1858727 ],\n",
       "        [ 0.09772185],\n",
       "        [-0.05080304],\n",
       "        [ 0.02982868],\n",
       "        [-0.08913439],\n",
       "        [-0.02474993],\n",
       "        [-0.04421174],\n",
       "        [-0.05248849],\n",
       "        [ 0.22052318],\n",
       "        [-0.43101934],\n",
       "        [ 0.14584209],\n",
       "        [ 0.10217422],\n",
       "        [-0.02889529],\n",
       "        [ 0.29795194],\n",
       "        [ 0.11737429],\n",
       "        [-0.19388379],\n",
       "        [-0.21122907],\n",
       "        [ 0.14963523],\n",
       "        [-0.153265  ],\n",
       "        [ 0.0224711 ],\n",
       "        [ 0.07713398],\n",
       "        [-0.05741804],\n",
       "        [ 0.1111597 ],\n",
       "        [ 0.12099256],\n",
       "        [-0.18444578],\n",
       "        [ 0.13248754],\n",
       "        [ 0.07797612],\n",
       "        [ 0.2062282 ],\n",
       "        [-0.09040751],\n",
       "        [-0.10727844],\n",
       "        [-0.02863639],\n",
       "        [ 0.22567515],\n",
       "        [-0.09097809],\n",
       "        [ 0.13119869],\n",
       "        [-0.17095383],\n",
       "        [ 0.13657434],\n",
       "        [-0.0571577 ],\n",
       "        [-0.11882588],\n",
       "        [-0.1063887 ],\n",
       "        [-0.18424925],\n",
       "        [-0.00066462],\n",
       "        [ 0.02616614],\n",
       "        [ 0.08916952],\n",
       "        [ 0.0561945 ],\n",
       "        [-0.17257138],\n",
       "        [-0.01218836],\n",
       "        [ 0.12805077],\n",
       "        [-0.16322318],\n",
       "        [ 0.17073028],\n",
       "        [ 0.0260371 ],\n",
       "        [ 0.05245436],\n",
       "        [ 0.10209244],\n",
       "        [ 0.06277406],\n",
       "        [ 0.17829077],\n",
       "        [-0.1857851 ],\n",
       "        [-0.0805001 ],\n",
       "        [-0.19823997],\n",
       "        [-0.01732491],\n",
       "        [ 0.11579537],\n",
       "        [ 0.12801543],\n",
       "        [-0.11156671],\n",
       "        [-0.06655163],\n",
       "        [-0.00572104],\n",
       "        [ 0.19352837],\n",
       "        [ 0.0431099 ],\n",
       "        [ 0.1581795 ],\n",
       "        [-0.09937067],\n",
       "        [ 0.00409192],\n",
       "        [ 0.2382292 ],\n",
       "        [ 0.23383154],\n",
       "        [-0.08471562],\n",
       "        [-0.1552435 ],\n",
       "        [-0.08396247],\n",
       "        [-0.18421204],\n",
       "        [-0.05276812],\n",
       "        [ 0.15286757],\n",
       "        [ 0.25418746],\n",
       "        [-0.17374156],\n",
       "        [-0.08553924],\n",
       "        [ 0.2555928 ],\n",
       "        [ 0.15260354],\n",
       "        [ 0.07611511],\n",
       "        [ 0.10007259],\n",
       "        [-0.05076568],\n",
       "        [-0.18726988],\n",
       "        [ 0.15655842],\n",
       "        [-0.07324187],\n",
       "        [ 0.1042315 ],\n",
       "        [ 0.10234592],\n",
       "        [ 0.07154609],\n",
       "        [ 0.2011518 ],\n",
       "        [-0.01666559],\n",
       "        [-0.10012797],\n",
       "        [-0.03467055],\n",
       "        [-0.02041626],\n",
       "        [-0.03200045],\n",
       "        [ 0.05130854],\n",
       "        [-0.07911859],\n",
       "        [ 0.2080414 ],\n",
       "        [-0.07744819]], dtype=float32),\n",
       " array([-0.15608826], dtype=float32)]"
      ]
     },
     "execution_count": 4,
     "metadata": {},
     "output_type": "execute_result"
    }
   ],
   "source": [
    "model.get_weights()"
   ]
  },
  {
   "cell_type": "code",
   "execution_count": 5,
   "metadata": {},
   "outputs": [],
   "source": [
    "## helper function\n",
    "# function to decode the reviews\n",
    "def decode_review(encoded_review):\n",
    "    return ' '.join([reverse_word_index.get(i-3,'?') for i in encoded_review])\n",
    "\n",
    "#function to preprocess user input\n",
    "def preprocess_text(text):\n",
    "    words = text.lower().split()\n",
    "    encoded_review = [word_index.get(word,2) + 3 for word in words]\n",
    "    padded_review = sequence.pad_sequences([encoded_review],maxlen=500)\n",
    "    return padded_review\n"
   ]
  },
  {
   "cell_type": "code",
   "execution_count": 6,
   "metadata": {},
   "outputs": [],
   "source": [
    "## prediction function\n",
    "def predict_sentiment(review):\n",
    "    preprocessed_input=preprocess_text(review)\n",
    "\n",
    "    prediction=model.predict(preprocessed_input)\n",
    "\n",
    "    sentiment = 'Positive' if prediction[0][0] > 0.5 else 'Negative'\n",
    "    return sentiment,prediction[0][0]\n",
    "\n"
   ]
  },
  {
   "cell_type": "code",
   "execution_count": 7,
   "metadata": {},
   "outputs": [
    {
     "name": "stdout",
     "output_type": "stream",
     "text": [
      "\u001b[1m1/1\u001b[0m \u001b[32m━━━━━━━━━━━━━━━━━━━━\u001b[0m\u001b[37m\u001b[0m \u001b[1m0s\u001b[0m 159ms/step\n",
      "Review : this movie was fantastic! the acting was great and yhe plot was thrilling\n",
      "Sentiment : Positive\n",
      "Prediction score : 0.6010030508041382\n"
     ]
    }
   ],
   "source": [
    "## user input and prediction\n",
    "#example review for prediction\n",
    "example_review = \"this movie was fantastic! the acting was great and yhe plot was thrilling\"\n",
    "\n",
    "sentiment,score=predict_sentiment(example_review)\n",
    "print(f'Review : {example_review}')\n",
    "print(f'Sentiment : {sentiment}')\n",
    "print(f'Prediction score : {score}')\n"
   ]
  },
  {
   "cell_type": "code",
   "execution_count": null,
   "metadata": {},
   "outputs": [],
   "source": []
  }
 ],
 "metadata": {
  "kernelspec": {
   "display_name": "Python 3",
   "language": "python",
   "name": "python3"
  },
  "language_info": {
   "codemirror_mode": {
    "name": "ipython",
    "version": 3
   },
   "file_extension": ".py",
   "mimetype": "text/x-python",
   "name": "python",
   "nbconvert_exporter": "python",
   "pygments_lexer": "ipython3",
   "version": "3.12.0"
  }
 },
 "nbformat": 4,
 "nbformat_minor": 2
}
